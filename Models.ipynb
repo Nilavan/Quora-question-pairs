{
<<<<<<< HEAD
 "cells": [
  {
   "cell_type": "markdown",
   "metadata": {},
   "source": [
    "# ML models"
   ]
  },
  {
   "cell_type": "code",
   "execution_count": 37,
   "metadata": {},
   "outputs": [],
   "source": [
    "import numpy as np\n",
    "import pandas as pd\n",
    "import matplotlib.pyplot as plt\n",
    "%matplotlib inline\n",
    "import seaborn as sns\n",
    "from sklearn.model_selection import train_test_split\n",
    "from collections import Counter\n",
    "from sklearn.metrics import log_loss, confusion_matrix\n",
    "from sklearn.linear_model import SGDClassifier"
   ]
  },
  {
   "cell_type": "markdown",
   "metadata": {},
   "source": [
    "## Checking data"
   ]
  },
  {
   "cell_type": "code",
   "execution_count": 21,
   "metadata": {},
   "outputs": [],
   "source": [
    "data = pd.read_csv('final_features_idf_w2v.csv')"
   ]
  },
  {
   "cell_type": "code",
   "execution_count": 22,
   "metadata": {},
   "outputs": [
    {
     "data": {
      "text/html": [
       "<div>\n",
       "<style scoped>\n",
       "    .dataframe tbody tr th:only-of-type {\n",
       "        vertical-align: middle;\n",
       "    }\n",
       "\n",
       "    .dataframe tbody tr th {\n",
       "        vertical-align: top;\n",
       "    }\n",
       "\n",
       "    .dataframe thead th {\n",
       "        text-align: right;\n",
       "    }\n",
       "</style>\n",
       "<table border=\"1\" class=\"dataframe\">\n",
       "  <thead>\n",
       "    <tr style=\"text-align: right;\">\n",
       "      <th></th>\n",
       "      <th>id</th>\n",
       "      <th>is_duplicate</th>\n",
       "      <th>freq_qid1</th>\n",
       "      <th>freq_qid2</th>\n",
       "      <th>q1len</th>\n",
       "      <th>q2len</th>\n",
       "      <th>q1_n_words</th>\n",
       "      <th>q2_n_words</th>\n",
       "      <th>word_Common</th>\n",
       "      <th>word_Total</th>\n",
       "      <th>...</th>\n",
       "      <th>86_y</th>\n",
       "      <th>87_y</th>\n",
       "      <th>88_y</th>\n",
       "      <th>89_y</th>\n",
       "      <th>90_y</th>\n",
       "      <th>91_y</th>\n",
       "      <th>92_y</th>\n",
       "      <th>93_y</th>\n",
       "      <th>94_y</th>\n",
       "      <th>95_y</th>\n",
       "    </tr>\n",
       "  </thead>\n",
       "  <tbody>\n",
       "    <tr>\n",
       "      <th>0</th>\n",
       "      <td>0</td>\n",
       "      <td>0</td>\n",
       "      <td>1</td>\n",
       "      <td>1</td>\n",
       "      <td>66</td>\n",
       "      <td>57</td>\n",
       "      <td>14</td>\n",
       "      <td>12</td>\n",
       "      <td>10.0</td>\n",
       "      <td>23.0</td>\n",
       "      <td>...</td>\n",
       "      <td>-70.832403</td>\n",
       "      <td>-41.256786</td>\n",
       "      <td>-34.254851</td>\n",
       "      <td>90.872573</td>\n",
       "      <td>-44.277550</td>\n",
       "      <td>-34.888113</td>\n",
       "      <td>-74.222143</td>\n",
       "      <td>102.292046</td>\n",
       "      <td>43.739190</td>\n",
       "      <td>-20.957979</td>\n",
       "    </tr>\n",
       "    <tr>\n",
       "      <th>1</th>\n",
       "      <td>1</td>\n",
       "      <td>0</td>\n",
       "      <td>4</td>\n",
       "      <td>1</td>\n",
       "      <td>51</td>\n",
       "      <td>88</td>\n",
       "      <td>8</td>\n",
       "      <td>13</td>\n",
       "      <td>4.0</td>\n",
       "      <td>20.0</td>\n",
       "      <td>...</td>\n",
       "      <td>41.574303</td>\n",
       "      <td>-39.242651</td>\n",
       "      <td>-38.721337</td>\n",
       "      <td>14.342314</td>\n",
       "      <td>47.132632</td>\n",
       "      <td>141.204360</td>\n",
       "      <td>-64.515281</td>\n",
       "      <td>200.730686</td>\n",
       "      <td>66.319068</td>\n",
       "      <td>53.554171</td>\n",
       "    </tr>\n",
       "    <tr>\n",
       "      <th>2</th>\n",
       "      <td>2</td>\n",
       "      <td>0</td>\n",
       "      <td>1</td>\n",
       "      <td>1</td>\n",
       "      <td>73</td>\n",
       "      <td>59</td>\n",
       "      <td>14</td>\n",
       "      <td>10</td>\n",
       "      <td>4.0</td>\n",
       "      <td>24.0</td>\n",
       "      <td>...</td>\n",
       "      <td>-11.749392</td>\n",
       "      <td>-48.575294</td>\n",
       "      <td>77.329153</td>\n",
       "      <td>19.113311</td>\n",
       "      <td>-80.246938</td>\n",
       "      <td>-169.848856</td>\n",
       "      <td>-76.509439</td>\n",
       "      <td>4.325692</td>\n",
       "      <td>-15.421377</td>\n",
       "      <td>53.163067</td>\n",
       "    </tr>\n",
       "    <tr>\n",
       "      <th>3</th>\n",
       "      <td>3</td>\n",
       "      <td>0</td>\n",
       "      <td>1</td>\n",
       "      <td>1</td>\n",
       "      <td>50</td>\n",
       "      <td>65</td>\n",
       "      <td>11</td>\n",
       "      <td>9</td>\n",
       "      <td>0.0</td>\n",
       "      <td>19.0</td>\n",
       "      <td>...</td>\n",
       "      <td>-16.036741</td>\n",
       "      <td>19.036524</td>\n",
       "      <td>34.442986</td>\n",
       "      <td>13.489201</td>\n",
       "      <td>0.880522</td>\n",
       "      <td>-45.455995</td>\n",
       "      <td>5.553282</td>\n",
       "      <td>-18.519848</td>\n",
       "      <td>-5.311356</td>\n",
       "      <td>-10.700402</td>\n",
       "    </tr>\n",
       "    <tr>\n",
       "      <th>4</th>\n",
       "      <td>4</td>\n",
       "      <td>0</td>\n",
       "      <td>3</td>\n",
       "      <td>1</td>\n",
       "      <td>76</td>\n",
       "      <td>39</td>\n",
       "      <td>13</td>\n",
       "      <td>7</td>\n",
       "      <td>2.0</td>\n",
       "      <td>20.0</td>\n",
       "      <td>...</td>\n",
       "      <td>45.571452</td>\n",
       "      <td>22.877270</td>\n",
       "      <td>-59.055346</td>\n",
       "      <td>37.025140</td>\n",
       "      <td>39.336464</td>\n",
       "      <td>-29.966345</td>\n",
       "      <td>-88.618746</td>\n",
       "      <td>24.934763</td>\n",
       "      <td>57.537236</td>\n",
       "      <td>19.807254</td>\n",
       "    </tr>\n",
       "  </tbody>\n",
       "</table>\n",
       "<p>5 rows × 220 columns</p>\n",
       "</div>"
      ],
      "text/plain": [
       "   id  is_duplicate  freq_qid1  freq_qid2  q1len  q2len  q1_n_words  \\\n",
       "0   0             0          1          1     66     57          14   \n",
       "1   1             0          4          1     51     88           8   \n",
       "2   2             0          1          1     73     59          14   \n",
       "3   3             0          1          1     50     65          11   \n",
       "4   4             0          3          1     76     39          13   \n",
       "\n",
       "   q2_n_words  word_Common  word_Total  ...       86_y       87_y       88_y  \\\n",
       "0          12         10.0        23.0  ... -70.832403 -41.256786 -34.254851   \n",
       "1          13          4.0        20.0  ...  41.574303 -39.242651 -38.721337   \n",
       "2          10          4.0        24.0  ... -11.749392 -48.575294  77.329153   \n",
       "3           9          0.0        19.0  ... -16.036741  19.036524  34.442986   \n",
       "4           7          2.0        20.0  ...  45.571452  22.877270 -59.055346   \n",
       "\n",
       "        89_y       90_y        91_y       92_y        93_y       94_y  \\\n",
       "0  90.872573 -44.277550  -34.888113 -74.222143  102.292046  43.739190   \n",
       "1  14.342314  47.132632  141.204360 -64.515281  200.730686  66.319068   \n",
       "2  19.113311 -80.246938 -169.848856 -76.509439    4.325692 -15.421377   \n",
       "3  13.489201   0.880522  -45.455995   5.553282  -18.519848  -5.311356   \n",
       "4  37.025140  39.336464  -29.966345 -88.618746   24.934763  57.537236   \n",
       "\n",
       "        95_y  \n",
       "0 -20.957979  \n",
       "1  53.554171  \n",
       "2  53.163067  \n",
       "3 -10.700402  \n",
       "4  19.807254  \n",
       "\n",
       "[5 rows x 220 columns]"
      ]
     },
     "execution_count": 22,
     "metadata": {},
     "output_type": "execute_result"
    }
   ],
   "source": [
    "data.head()"
   ]
  },
  {
   "cell_type": "code",
   "execution_count": 23,
   "metadata": {},
   "outputs": [
    {
     "name": "stdout",
     "output_type": "stream",
     "text": [
      "<class 'pandas.core.frame.DataFrame'>\n",
      "RangeIndex: 404290 entries, 0 to 404289\n",
      "Data columns (total 4 columns):\n",
      " #   Column  Non-Null Count   Dtype  \n",
      "---  ------  --------------   -----  \n",
      " 0   1_x     404290 non-null  float64\n",
      " 1   95_x    404290 non-null  float64\n",
      " 2   1_y     404290 non-null  float64\n",
      " 3   95_y    404290 non-null  float64\n",
      "dtypes: float64(4)\n",
      "memory usage: 12.3 MB\n"
     ]
    }
   ],
   "source": [
    "data[['1_x','95_x','1_y','95_y']].info()"
   ]
  },
  {
   "cell_type": "code",
   "execution_count": 24,
   "metadata": {},
   "outputs": [
    {
     "name": "stdout",
     "output_type": "stream",
     "text": [
      "<class 'pandas.core.frame.DataFrame'>\n",
      "RangeIndex: 404290 entries, 0 to 404289\n",
      "Data columns (total 29 columns):\n",
      " #   Column                Non-Null Count   Dtype  \n",
      "---  ------                --------------   -----  \n",
      " 0   id                    404290 non-null  int64  \n",
      " 1   is_duplicate          404290 non-null  int64  \n",
      " 2   freq_qid1             404290 non-null  int64  \n",
      " 3   freq_qid2             404290 non-null  int64  \n",
      " 4   q1len                 404290 non-null  int64  \n",
      " 5   q2len                 404290 non-null  int64  \n",
      " 6   q1_n_words            404290 non-null  int64  \n",
      " 7   q2_n_words            404290 non-null  int64  \n",
      " 8   word_Common           404290 non-null  float64\n",
      " 9   word_Total            404290 non-null  float64\n",
      " 10  word_Share            404290 non-null  float64\n",
      " 11  freq_q1+q2            404290 non-null  int64  \n",
      " 12  freq_q1-q2            404290 non-null  int64  \n",
      " 13  cwc_min               404290 non-null  float64\n",
      " 14  cwc_max               404290 non-null  float64\n",
      " 15  csc_min               404290 non-null  float64\n",
      " 16  csc_max               404290 non-null  float64\n",
      " 17  ctc_min               404290 non-null  float64\n",
      " 18  ctc_max               404290 non-null  float64\n",
      " 19  last_word_eq          404290 non-null  float64\n",
      " 20  first_word_eq         404290 non-null  float64\n",
      " 21  abs_len_diff          404290 non-null  float64\n",
      " 22  mean_len              404290 non-null  float64\n",
      " 23  token_sort_ratio      404290 non-null  int64  \n",
      " 24  token_set_ratio       404290 non-null  int64  \n",
      " 25  fuzz_ratio            404290 non-null  int64  \n",
      " 26  fuzz_partial_ratio    404290 non-null  int64  \n",
      " 27  longest_substr_ratio  404290 non-null  float64\n",
      " 28  0_x                   404290 non-null  float64\n",
      "dtypes: float64(15), int64(14)\n",
      "memory usage: 89.5 MB\n"
     ]
    }
   ],
   "source": [
    "data[data.columns[:29]].info()"
   ]
  },
  {
   "cell_type": "code",
   "execution_count": 25,
   "metadata": {},
   "outputs": [],
   "source": [
    "y_true = data['is_duplicate']\n",
    "data.drop(['id','is_duplicate'],axis=1,inplace=True)"
   ]
  },
  {
   "cell_type": "markdown",
   "metadata": {},
   "source": [
    "## Random train test split (70:30)"
   ]
  },
  {
   "cell_type": "code",
   "execution_count": 27,
   "metadata": {},
   "outputs": [],
   "source": [
    "x_train, x_test, y_train, y_test = train_test_split(data,y_true,stratify=y_true,test_size=0.3)"
   ]
  },
  {
   "cell_type": "code",
   "execution_count": 28,
   "metadata": {},
   "outputs": [
    {
     "name": "stdout",
     "output_type": "stream",
     "text": [
      "Number of data points in train data : (283003, 218)\n",
      "Number of data points in test data : (121287, 218)\n"
     ]
    }
   ],
   "source": [
    "print(\"Number of data points in train data :\",x_train.shape)\n",
    "print(\"Number of data points in test data :\",x_test.shape)"
   ]
  },
  {
   "cell_type": "code",
   "execution_count": 30,
   "metadata": {},
   "outputs": [
    {
     "name": "stdout",
     "output_type": "stream",
     "text": [
      "---------- Distribution of output variable in train data ----------\n",
      "Class 0:  0.6308025003268517  Class 1:  0.36919749967314835\n",
      "---------- Distribution of output variable in test data ----------\n",
      "Class 0:  0.6308013224830361  Class 1:  0.3691986775169639\n"
     ]
    }
   ],
   "source": [
    "print('-'*10,'Distribution of output variable in train data','-'*10)\n",
    "train_distr = Counter(y_train)\n",
    "print('Class 0: ',train_distr[0]/len(y_train),' Class 1: ',train_distr[1]/len(y_train))\n",
    "print('-'*10,'Distribution of output variable in test data','-'*10)\n",
    "test_distr = Counter(y_test)\n",
    "print('Class 0: ',test_distr[0]/len(y_test),' Class 1: ',test_distr[1]/len(y_test))"
   ]
  },
  {
   "cell_type": "markdown",
   "metadata": {},
   "source": [
    "## Function to plot confusion matrices"
   ]
  },
  {
   "cell_type": "code",
   "execution_count": 82,
   "metadata": {},
   "outputs": [],
   "source": [
    "def plot_confusion_matrix(test_y,pred_y):\n",
    "    C = confusion_matrix(test_y,pred_y)\n",
    "    A =(((C.T)/(C.sum(axis=1))).T)\n",
    "    B =(C/C.sum(axis=0))\n",
    "    \n",
    "    plt.figure(figsize=(20,4))\n",
    "    labels=[0,1]\n",
    "    \n",
    "    cmap = sns.color_palette(\"Blues\")\n",
    "    plt.subplot(1,3,1)\n",
    "    sns.heatmap(C,annot=True,cmap=cmap,fmt=\".3f\",xticklabels=labels,yticklabels=labels)\n",
    "    plt.xlabel('Predicted Class')\n",
    "    plt.ylabel('Original Class')\n",
    "    plt.title(\"Confusion matrix\")\n",
    "    \n",
    "    plt.subplot(1,3,2)\n",
    "    sns.heatmap(B,annot=True,cmap=cmap,fmt=\".3f\",xticklabels=labels,yticklabels=labels)\n",
    "    plt.xlabel('Predicted Class')\n",
    "    plt.ylabel('Original Class')\n",
    "    plt.title(\"Precision matrix\")\n",
    "    \n",
    "    plt.subplot(1,3,3)\n",
    "    sns.heatmap(A,annot=True,cmap=cmap,fmt=\".3f\",xticklabels=labels,yticklabels=labels)\n",
    "    plt.xlabel('Predicted Class')\n",
    "    plt.ylabel('Original Class')\n",
    "    plt.title(\"Recall matrix\")\n",
    "    \n",
    "    plt.show()"
   ]
  },
  {
   "cell_type": "markdown",
   "metadata": {},
   "source": [
    "## Random model (For worst case log loss)"
   ]
  },
  {
   "cell_type": "code",
   "execution_count": 83,
   "metadata": {},
   "outputs": [
    {
     "name": "stdout",
     "output_type": "stream",
     "text": [
      "Log loss on Test Data using Random Model 0.8900853745636434\n"
     ]
    },
    {
     "data": {
      "image/png": "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\n",
      "text/plain": [
       "<Figure size 1440x288 with 6 Axes>"
      ]
     },
     "metadata": {
      "needs_background": "light"
     },
     "output_type": "display_data"
    }
   ],
   "source": [
    "predicted_y = np.zeros((len(y_test),2))\n",
    "\n",
    "for i in range(len(y_test)):\n",
    "    prob = np.random.rand(1, 2)\n",
    "    predicted_y[i] = (prob/sum(sum(prob)))[0]\n",
    "    \n",
    "print(\"Log loss on Test Data using Random Model\",log_loss(y_test, predicted_y, eps=1e-15))\n",
    "\n",
    "predicted_y = np.argmax(predicted_y, axis=1)\n",
    "plot_confusion_matrix(y_test, predicted_y)"
   ]
  },
  {
   "cell_type": "markdown",
   "metadata": {},
   "source": [
    "## Logistic regression"
   ]
  },
  {
   "cell_type": "code",
   "execution_count": null,
   "metadata": {},
   "outputs": [],
   "source": [
    "# hyperparameter for SGD Classifier\n",
    "# alpha ranges from 0.00005 to 10 (7 values)\n",
    "alpha = [10**x for x in range(-5, 2)]\n",
    "\n",
    "for i in alpha:\n",
    "    sgd_clf = SGD"
   ]
  }
 ],
 "metadata": {
  "kernelspec": {
   "display_name": "Python 3",
   "language": "python",
   "name": "python3"
  },
  "language_info": {
   "codemirror_mode": {
    "name": "ipython",
    "version": 3
   },
   "file_extension": ".py",
   "mimetype": "text/x-python",
   "name": "python",
   "nbconvert_exporter": "python",
   "pygments_lexer": "ipython3",
   "version": "3.7.6"
  }
 },
 "nbformat": 4,
 "nbformat_minor": 4
}
=======
  "nbformat": 4,
  "nbformat_minor": 0,
  "metadata": {
    "kernelspec": {
      "display_name": "Python 3",
      "language": "python",
      "name": "python3"
    },
    "language_info": {
      "codemirror_mode": {
        "name": "ipython",
        "version": 3
      },
      "file_extension": ".py",
      "mimetype": "text/x-python",
      "name": "python",
      "nbconvert_exporter": "python",
      "pygments_lexer": "ipython3",
      "version": "3.7.6"
    },
    "colab": {
      "name": "Models.ipynb",
      "provenance": [],
      "include_colab_link": true
    }
  },
  "cells": [
    {
      "cell_type": "markdown",
      "metadata": {
        "id": "view-in-github",
        "colab_type": "text"
      },
      "source": [
        "<a href=\"https://colab.research.google.com/github/Nilavan/Quora-question-pairs/blob/main/Models.ipynb\" target=\"_parent\"><img src=\"https://colab.research.google.com/assets/colab-badge.svg\" alt=\"Open In Colab\"/></a>"
      ]
    },
    {
      "cell_type": "markdown",
      "metadata": {
        "id": "yf2UsGmcnHEO"
      },
      "source": [
        "# ML models"
      ]
    },
    {
      "cell_type": "code",
      "metadata": {
        "id": "2tADtrzRnHER"
      },
      "source": [
        "import numpy as np\n",
        "import pandas as pd\n",
        "import matplotlib.pyplot as plt\n",
        "%matplotlib inline\n",
        "import seaborn as sns\n",
        "from sklearn.model_selection import train_test_split\n",
        "from collections import Counter\n",
        "from sklearn.metrics import log_loss, confusion_matrix\n",
        "from sklearn.linear_model import SGDClassifier"
      ],
      "execution_count": null,
      "outputs": []
    },
    {
      "cell_type": "markdown",
      "metadata": {
        "id": "m912q_LqnHES"
      },
      "source": [
        "## Checking data"
      ]
    },
    {
      "cell_type": "code",
      "metadata": {
        "id": "smGizE3vnHES"
      },
      "source": [
        "data = pd.read_csv('final_features_idf_w2v.csv')"
      ],
      "execution_count": null,
      "outputs": []
    },
    {
      "cell_type": "code",
      "metadata": {
        "id": "dEffhcf2nHES",
        "outputId": "6369186b-2b91-4725-96df-6cddbbdc2ce2"
      },
      "source": [
        "data.head()"
      ],
      "execution_count": null,
      "outputs": [
        {
          "data": {
            "text/html": [
              "<div>\n",
              "<style scoped>\n",
              "    .dataframe tbody tr th:only-of-type {\n",
              "        vertical-align: middle;\n",
              "    }\n",
              "\n",
              "    .dataframe tbody tr th {\n",
              "        vertical-align: top;\n",
              "    }\n",
              "\n",
              "    .dataframe thead th {\n",
              "        text-align: right;\n",
              "    }\n",
              "</style>\n",
              "<table border=\"1\" class=\"dataframe\">\n",
              "  <thead>\n",
              "    <tr style=\"text-align: right;\">\n",
              "      <th></th>\n",
              "      <th>id</th>\n",
              "      <th>is_duplicate</th>\n",
              "      <th>freq_qid1</th>\n",
              "      <th>freq_qid2</th>\n",
              "      <th>q1len</th>\n",
              "      <th>q2len</th>\n",
              "      <th>q1_n_words</th>\n",
              "      <th>q2_n_words</th>\n",
              "      <th>word_Common</th>\n",
              "      <th>word_Total</th>\n",
              "      <th>...</th>\n",
              "      <th>86_y</th>\n",
              "      <th>87_y</th>\n",
              "      <th>88_y</th>\n",
              "      <th>89_y</th>\n",
              "      <th>90_y</th>\n",
              "      <th>91_y</th>\n",
              "      <th>92_y</th>\n",
              "      <th>93_y</th>\n",
              "      <th>94_y</th>\n",
              "      <th>95_y</th>\n",
              "    </tr>\n",
              "  </thead>\n",
              "  <tbody>\n",
              "    <tr>\n",
              "      <th>0</th>\n",
              "      <td>0</td>\n",
              "      <td>0</td>\n",
              "      <td>1</td>\n",
              "      <td>1</td>\n",
              "      <td>66</td>\n",
              "      <td>57</td>\n",
              "      <td>14</td>\n",
              "      <td>12</td>\n",
              "      <td>10.0</td>\n",
              "      <td>23.0</td>\n",
              "      <td>...</td>\n",
              "      <td>-70.832403</td>\n",
              "      <td>-41.256786</td>\n",
              "      <td>-34.254851</td>\n",
              "      <td>90.872573</td>\n",
              "      <td>-44.277550</td>\n",
              "      <td>-34.888113</td>\n",
              "      <td>-74.222143</td>\n",
              "      <td>102.292046</td>\n",
              "      <td>43.739190</td>\n",
              "      <td>-20.957979</td>\n",
              "    </tr>\n",
              "    <tr>\n",
              "      <th>1</th>\n",
              "      <td>1</td>\n",
              "      <td>0</td>\n",
              "      <td>4</td>\n",
              "      <td>1</td>\n",
              "      <td>51</td>\n",
              "      <td>88</td>\n",
              "      <td>8</td>\n",
              "      <td>13</td>\n",
              "      <td>4.0</td>\n",
              "      <td>20.0</td>\n",
              "      <td>...</td>\n",
              "      <td>41.574303</td>\n",
              "      <td>-39.242651</td>\n",
              "      <td>-38.721337</td>\n",
              "      <td>14.342314</td>\n",
              "      <td>47.132632</td>\n",
              "      <td>141.204360</td>\n",
              "      <td>-64.515281</td>\n",
              "      <td>200.730686</td>\n",
              "      <td>66.319068</td>\n",
              "      <td>53.554171</td>\n",
              "    </tr>\n",
              "    <tr>\n",
              "      <th>2</th>\n",
              "      <td>2</td>\n",
              "      <td>0</td>\n",
              "      <td>1</td>\n",
              "      <td>1</td>\n",
              "      <td>73</td>\n",
              "      <td>59</td>\n",
              "      <td>14</td>\n",
              "      <td>10</td>\n",
              "      <td>4.0</td>\n",
              "      <td>24.0</td>\n",
              "      <td>...</td>\n",
              "      <td>-11.749392</td>\n",
              "      <td>-48.575294</td>\n",
              "      <td>77.329153</td>\n",
              "      <td>19.113311</td>\n",
              "      <td>-80.246938</td>\n",
              "      <td>-169.848856</td>\n",
              "      <td>-76.509439</td>\n",
              "      <td>4.325692</td>\n",
              "      <td>-15.421377</td>\n",
              "      <td>53.163067</td>\n",
              "    </tr>\n",
              "    <tr>\n",
              "      <th>3</th>\n",
              "      <td>3</td>\n",
              "      <td>0</td>\n",
              "      <td>1</td>\n",
              "      <td>1</td>\n",
              "      <td>50</td>\n",
              "      <td>65</td>\n",
              "      <td>11</td>\n",
              "      <td>9</td>\n",
              "      <td>0.0</td>\n",
              "      <td>19.0</td>\n",
              "      <td>...</td>\n",
              "      <td>-16.036741</td>\n",
              "      <td>19.036524</td>\n",
              "      <td>34.442986</td>\n",
              "      <td>13.489201</td>\n",
              "      <td>0.880522</td>\n",
              "      <td>-45.455995</td>\n",
              "      <td>5.553282</td>\n",
              "      <td>-18.519848</td>\n",
              "      <td>-5.311356</td>\n",
              "      <td>-10.700402</td>\n",
              "    </tr>\n",
              "    <tr>\n",
              "      <th>4</th>\n",
              "      <td>4</td>\n",
              "      <td>0</td>\n",
              "      <td>3</td>\n",
              "      <td>1</td>\n",
              "      <td>76</td>\n",
              "      <td>39</td>\n",
              "      <td>13</td>\n",
              "      <td>7</td>\n",
              "      <td>2.0</td>\n",
              "      <td>20.0</td>\n",
              "      <td>...</td>\n",
              "      <td>45.571452</td>\n",
              "      <td>22.877270</td>\n",
              "      <td>-59.055346</td>\n",
              "      <td>37.025140</td>\n",
              "      <td>39.336464</td>\n",
              "      <td>-29.966345</td>\n",
              "      <td>-88.618746</td>\n",
              "      <td>24.934763</td>\n",
              "      <td>57.537236</td>\n",
              "      <td>19.807254</td>\n",
              "    </tr>\n",
              "  </tbody>\n",
              "</table>\n",
              "<p>5 rows × 220 columns</p>\n",
              "</div>"
            ],
            "text/plain": [
              "   id  is_duplicate  freq_qid1  freq_qid2  q1len  q2len  q1_n_words  \\\n",
              "0   0             0          1          1     66     57          14   \n",
              "1   1             0          4          1     51     88           8   \n",
              "2   2             0          1          1     73     59          14   \n",
              "3   3             0          1          1     50     65          11   \n",
              "4   4             0          3          1     76     39          13   \n",
              "\n",
              "   q2_n_words  word_Common  word_Total  ...       86_y       87_y       88_y  \\\n",
              "0          12         10.0        23.0  ... -70.832403 -41.256786 -34.254851   \n",
              "1          13          4.0        20.0  ...  41.574303 -39.242651 -38.721337   \n",
              "2          10          4.0        24.0  ... -11.749392 -48.575294  77.329153   \n",
              "3           9          0.0        19.0  ... -16.036741  19.036524  34.442986   \n",
              "4           7          2.0        20.0  ...  45.571452  22.877270 -59.055346   \n",
              "\n",
              "        89_y       90_y        91_y       92_y        93_y       94_y  \\\n",
              "0  90.872573 -44.277550  -34.888113 -74.222143  102.292046  43.739190   \n",
              "1  14.342314  47.132632  141.204360 -64.515281  200.730686  66.319068   \n",
              "2  19.113311 -80.246938 -169.848856 -76.509439    4.325692 -15.421377   \n",
              "3  13.489201   0.880522  -45.455995   5.553282  -18.519848  -5.311356   \n",
              "4  37.025140  39.336464  -29.966345 -88.618746   24.934763  57.537236   \n",
              "\n",
              "        95_y  \n",
              "0 -20.957979  \n",
              "1  53.554171  \n",
              "2  53.163067  \n",
              "3 -10.700402  \n",
              "4  19.807254  \n",
              "\n",
              "[5 rows x 220 columns]"
            ]
          },
          "execution_count": 22,
          "metadata": {},
          "output_type": "execute_result"
        }
      ]
    },
    {
      "cell_type": "code",
      "metadata": {
        "id": "__I8ni4WnHET",
        "outputId": "d9300570-82c2-480e-90b0-0a8ad06199da"
      },
      "source": [
        "data[['1_x','95_x','1_y','95_y']].info()"
      ],
      "execution_count": null,
      "outputs": [
        {
          "name": "stdout",
          "output_type": "stream",
          "text": [
            "<class 'pandas.core.frame.DataFrame'>\n",
            "RangeIndex: 404290 entries, 0 to 404289\n",
            "Data columns (total 4 columns):\n",
            " #   Column  Non-Null Count   Dtype  \n",
            "---  ------  --------------   -----  \n",
            " 0   1_x     404290 non-null  float64\n",
            " 1   95_x    404290 non-null  float64\n",
            " 2   1_y     404290 non-null  float64\n",
            " 3   95_y    404290 non-null  float64\n",
            "dtypes: float64(4)\n",
            "memory usage: 12.3 MB\n"
          ]
        }
      ]
    },
    {
      "cell_type": "code",
      "metadata": {
        "id": "iebpkJiAnHEU",
        "outputId": "7af72c85-4e00-407d-ba64-7bf0e234b673"
      },
      "source": [
        "data[data.columns[:29]].info()"
      ],
      "execution_count": null,
      "outputs": [
        {
          "name": "stdout",
          "output_type": "stream",
          "text": [
            "<class 'pandas.core.frame.DataFrame'>\n",
            "RangeIndex: 404290 entries, 0 to 404289\n",
            "Data columns (total 29 columns):\n",
            " #   Column                Non-Null Count   Dtype  \n",
            "---  ------                --------------   -----  \n",
            " 0   id                    404290 non-null  int64  \n",
            " 1   is_duplicate          404290 non-null  int64  \n",
            " 2   freq_qid1             404290 non-null  int64  \n",
            " 3   freq_qid2             404290 non-null  int64  \n",
            " 4   q1len                 404290 non-null  int64  \n",
            " 5   q2len                 404290 non-null  int64  \n",
            " 6   q1_n_words            404290 non-null  int64  \n",
            " 7   q2_n_words            404290 non-null  int64  \n",
            " 8   word_Common           404290 non-null  float64\n",
            " 9   word_Total            404290 non-null  float64\n",
            " 10  word_Share            404290 non-null  float64\n",
            " 11  freq_q1+q2            404290 non-null  int64  \n",
            " 12  freq_q1-q2            404290 non-null  int64  \n",
            " 13  cwc_min               404290 non-null  float64\n",
            " 14  cwc_max               404290 non-null  float64\n",
            " 15  csc_min               404290 non-null  float64\n",
            " 16  csc_max               404290 non-null  float64\n",
            " 17  ctc_min               404290 non-null  float64\n",
            " 18  ctc_max               404290 non-null  float64\n",
            " 19  last_word_eq          404290 non-null  float64\n",
            " 20  first_word_eq         404290 non-null  float64\n",
            " 21  abs_len_diff          404290 non-null  float64\n",
            " 22  mean_len              404290 non-null  float64\n",
            " 23  token_sort_ratio      404290 non-null  int64  \n",
            " 24  token_set_ratio       404290 non-null  int64  \n",
            " 25  fuzz_ratio            404290 non-null  int64  \n",
            " 26  fuzz_partial_ratio    404290 non-null  int64  \n",
            " 27  longest_substr_ratio  404290 non-null  float64\n",
            " 28  0_x                   404290 non-null  float64\n",
            "dtypes: float64(15), int64(14)\n",
            "memory usage: 89.5 MB\n"
          ]
        }
      ]
    },
    {
      "cell_type": "code",
      "metadata": {
        "id": "UrHS7sAnnHEV"
      },
      "source": [
        "y_true = data['is_duplicate']\n",
        "data.drop(['id','is_duplicate'],axis=1,inplace=True)"
      ],
      "execution_count": null,
      "outputs": []
    },
    {
      "cell_type": "markdown",
      "metadata": {
        "id": "ol6evHL5nHEV"
      },
      "source": [
        "## Random train test split (70:30)"
      ]
    },
    {
      "cell_type": "code",
      "metadata": {
        "id": "A5x5m_hcnHEW"
      },
      "source": [
        "x_train, x_test, y_train, y_test = train_test_split(data,y_true,stratify=y_true,test_size=0.3)"
      ],
      "execution_count": null,
      "outputs": []
    },
    {
      "cell_type": "code",
      "metadata": {
        "id": "nU_czOZ-nHEX",
        "outputId": "c4ea452d-df40-4ada-f296-6593a61f3fa6"
      },
      "source": [
        "print(\"Number of data points in train data :\",x_train.shape)\n",
        "print(\"Number of data points in test data :\",x_test.shape)"
      ],
      "execution_count": null,
      "outputs": [
        {
          "name": "stdout",
          "output_type": "stream",
          "text": [
            "Number of data points in train data : (283003, 218)\n",
            "Number of data points in test data : (121287, 218)\n"
          ]
        }
      ]
    },
    {
      "cell_type": "code",
      "metadata": {
        "id": "2NAPzEINnHEX",
        "outputId": "c605c7fd-2273-4e13-af23-a58d27c1a0ec"
      },
      "source": [
        "print('-'*10,'Distribution of output variable in train data','-'*10)\n",
        "train_distr = Counter(y_train)\n",
        "print('Class 0: ',train_distr[0]/len(y_train),' Class 1: ',train_distr[1]/len(y_train))\n",
        "print('-'*10,'Distribution of output variable in test data','-'*10)\n",
        "test_distr = Counter(y_test)\n",
        "print('Class 0: ',test_distr[0]/len(y_test),' Class 1: ',test_distr[1]/len(y_test))"
      ],
      "execution_count": null,
      "outputs": [
        {
          "name": "stdout",
          "output_type": "stream",
          "text": [
            "---------- Distribution of output variable in train data ----------\n",
            "Class 0:  0.6308025003268517  Class 1:  0.36919749967314835\n",
            "---------- Distribution of output variable in test data ----------\n",
            "Class 0:  0.6308013224830361  Class 1:  0.3691986775169639\n"
          ]
        }
      ]
    },
    {
      "cell_type": "markdown",
      "metadata": {
        "id": "DakKnUofnHEY"
      },
      "source": [
        "## Function to plot confusion matrices"
      ]
    },
    {
      "cell_type": "code",
      "metadata": {
        "id": "5Vxq6hK3nHEY"
      },
      "source": [
        "def plot_confusion_matrix(test_y,pred_y):\n",
        "    C = confusion_matrix(test_y,pred_y)\n",
        "    A =(((C.T)/(C.sum(axis=1))).T)\n",
        "    B =(C/C.sum(axis=0))\n",
        "    \n",
        "    plt.figure(figsize=(20,4))\n",
        "    labels=[0,1]\n",
        "    \n",
        "    cmap = sns.color_palette(\"Blues\")\n",
        "    plt.subplot(1,3,1)\n",
        "    sns.heatmap(C,annot=True,cmap=cmap,fmt=\".3f\",xticklabels=labels,yticklabels=labels)\n",
        "    plt.xlabel('Predicted Class')\n",
        "    plt.ylabel('Original Class')\n",
        "    plt.title(\"Confusion matrix\")\n",
        "    \n",
        "    plt.subplot(1,3,2)\n",
        "    sns.heatmap(B,annot=True,cmap=cmap,fmt=\".3f\",xticklabels=labels,yticklabels=labels)\n",
        "    plt.xlabel('Predicted Class')\n",
        "    plt.ylabel('Original Class')\n",
        "    plt.title(\"Precision matrix\")\n",
        "    \n",
        "    plt.subplot(1,3,3)\n",
        "    sns.heatmap(A,annot=True,cmap=cmap,fmt=\".3f\",xticklabels=labels,yticklabels=labels)\n",
        "    plt.xlabel('Predicted Class')\n",
        "    plt.ylabel('Original Class')\n",
        "    plt.title(\"Recall matrix\")\n",
        "    \n",
        "    plt.show()"
      ],
      "execution_count": null,
      "outputs": []
    },
    {
      "cell_type": "markdown",
      "metadata": {
        "id": "IEmQLYnKnHEY"
      },
      "source": [
        "## Random model (For worst case log loss)"
      ]
    },
    {
      "cell_type": "code",
      "metadata": {
        "id": "F_vEO9WOnHEY",
        "outputId": "27c7aa68-c408-49d7-d1f0-179794064288"
      },
      "source": [
        "predicted_y = np.zeros((len(y_test),2))\n",
        "\n",
        "for i in range(len(y_test)):\n",
        "    prob = np.random.rand(1, 2)\n",
        "    predicted_y[i] = (prob/sum(sum(prob)))[0]\n",
        "    \n",
        "print(\"Log loss on Test Data using Random Model\",log_loss(y_test, predicted_y, eps=1e-15))\n",
        "\n",
        "predicted_y = np.argmax(predicted_y, axis=1)\n",
        "plot_confusion_matrix(y_test, predicted_y)"
      ],
      "execution_count": null,
      "outputs": [
        {
          "name": "stdout",
          "output_type": "stream",
          "text": [
            "Log loss on Test Data using Random Model 0.8900853745636434\n"
          ]
        },
        {
          "data": {
            "image/png": "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\n",
            "text/plain": [
              "<Figure size 1440x288 with 6 Axes>"
            ]
          },
          "metadata": {
            "needs_background": "light"
          },
          "output_type": "display_data"
        }
      ]
    },
    {
      "cell_type": "markdown",
      "metadata": {
        "id": "dN5NBEpDnHEZ"
      },
      "source": [
        "## Logistic regression"
      ]
    },
    {
      "cell_type": "code",
      "metadata": {
        "id": "qeUiyO5RnHEZ"
      },
      "source": [
        "# hyperparameter for SGD Classifier\n",
        "# alpha ranges from 0.00005 to 10 (7 values)\n",
        "alpha = [10**x for x in range(-5, 2)]\n",
        "\n",
        "for i in alpha:\n",
        "    sgd_clf = SGD"
      ],
      "execution_count": null,
      "outputs": []
    }
  ]
}
>>>>>>> ad5a217acbc54a563f90d87c423286d0b9c1df08
